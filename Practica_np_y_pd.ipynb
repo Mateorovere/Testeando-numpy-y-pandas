{
  "nbformat": 4,
  "nbformat_minor": 0,
  "metadata": {
    "colab": {
      "name": "Practica_np_y_pd.ipynb",
      "provenance": [],
      "collapsed_sections": []
    },
    "kernelspec": {
      "name": "python3",
      "display_name": "Python 3"
    },
    "language_info": {
      "name": "python"
    }
  },
  "cells": [
    {
      "cell_type": "code",
      "execution_count": null,
      "metadata": {
        "id": "V6WMwnocE0Zp"
      },
      "outputs": [],
      "source": [
        "import numpy as np\n",
        "import pandas as pd"
      ]
    },
    {
      "cell_type": "markdown",
      "source": [
        "#Numpy practica"
      ],
      "metadata": {
        "id": "GV87nIMKFJzD"
      }
    },
    {
      "cell_type": "code",
      "source": [
        "a = np.array([1,2,3], dtype='int32')\n",
        "b = np.array([[9.0,8.0,7.0,5.0],[6.0,5.0,4.0,3.6]])\n",
        "a.ndim\n",
        "#Cant de dimensiones\n",
        "b.shape\n",
        "\n",
        "a.dtype\n",
        "#Data type\n",
        "\n",
        "b[1,2]\n",
        "#Buscar un valor en especifico\n",
        "\n",
        "b[0, :]\n",
        "#Toda la row\n",
        "\n",
        "b[:, 2]\n",
        "#Toda la columna\n",
        "\n",
        "b[1,2] = 20.6\n",
        "#cambiar un valor\n",
        "b[1,:] = 20.6\n",
        "#lo mismo pero de row\n",
        "\n",
        "#CUANTAS MAS DIMENCIONES TIENE EL ARRAY SE TRABAJA DE AFUERA A ADENTRO\n",
        "\n",
        "c = np.array([[[1,2],[3,4]],[[5,6],[7,8]]])\n",
        "\n",
        "#EJERCICIO EJEMPLO\n",
        "#d = np.ones([5,5])\n",
        "#d[1,1:4] = 0\n",
        "#d[2,1:4] = [0,9,0]\n",
        "#d[3,1:4] = 0\n",
        "\n",
        "#otra forma\n",
        "#z = np.zeros([3,3])\n",
        "#z[1,1] = 9\n",
        "#d[1:4,1:4] = z\n",
        "\n",
        "#ademas se puede hacer con cualquier numero:\n",
        "h = np.full((2,2),99) #primer valor es la forma y el segundo es el valor a tomar\n",
        "#o con un array ya conocido\n",
        "s = np.full_like(c,4) #primer valor array conocido y el segundo el valor a tomar\n",
        "#print(s)\n",
        "\n",
        "f = np.array([1,2,3])\n",
        "t = a.copy() #para copiar y no intercalarse\n",
        "f = np.ones([5,5])\n",
        "#print(t)\n",
        "#print(f)\n",
        "\n",
        "#se pueden hacer funciones aritmeticas con cada elemento \n",
        "#f -  2\n",
        "#f + 2\n",
        "#f / 2\n",
        "#f * 2\n",
        "\n",
        "#Se pueden reacomodar los valores siempre y cuando tengal la misma cantidad\n",
        "m =np.arange(1, 31).reshape([6,5])\n",
        "#diferentes formad de indexar, el primer valor se toma a las rows, y el segundo a las columnas\n",
        "#m[2:4, 0:2]\n",
        "#m[[0,1,2,3],[1,2,3,4]]\n",
        "#m[[0, 4, 5], 3:]\n",
        "#AXIS = QUE ES MAS IMPORTANTE SI ROWS O COLUMNAS, AXIS = 0 (PRIMERO COLUMNAS), AXIS = 1 ( PRIMERO ROWS)\n",
        "\n",
        "\n",
        "#se pueden hacer flitros booleanos, ejemplo:\n",
        "ejemplo = np.array([[23,45,67,89,24,35,576,68,123,24,],[23,1,13,3,5,8,987,54,34,5]])\n",
        "ejemplo > 30\n",
        "#retorna True or False\n",
        "# O se puede hacer que retorne los valores en los cuales es verdadero:\n",
        "ejemplo[ejemplo > 30]\n",
        "\n",
        "v1=np.array([1,2])\n",
        "v2=np.array([3,4])\n",
        "#print(v1 + v2)\n",
        "np.vstack((v1,v2))\n",
        "np.hstack((v1,v2))\n",
        "\n",
        "#ENTENDER MEJOR LOS AXIS"
      ],
      "metadata": {
        "id": "DjLAymUAFPuL"
      },
      "execution_count": null,
      "outputs": []
    },
    {
      "cell_type": "markdown",
      "source": [
        "#Practica Pandas"
      ],
      "metadata": {
        "id": "9JqIbH6ZNQYn"
      }
    },
    {
      "cell_type": "code",
      "source": [
        "df = pd.read_csv('https://storage.googleapis.com/tf-datasets/titanic/train.csv')\n",
        "#Ejemplo de csv para practicar, puede ser con excel o txt tampbien pero hay que colocar el delimiter despues de el path\n",
        "\n",
        "#los primeros y los ultimos\n",
        "#print(df.head())\n",
        "#print(df.tail())\n",
        "\n",
        "#para ver los encabezados\n",
        "df.columns\n",
        "\n",
        "#para ver una columna en especifico\n",
        "df['age']\n",
        "# y para varias al mismo tiempo:\n",
        "df[['age', 'sex', 'alone']]\n",
        "#print(df[['age', 'sex', 'alone']])\n",
        "\n",
        "#para ver una/unas rows en especifico\n",
        "df.iloc[3:5] # o tamb con print\n",
        "\n",
        "#tambien se puede localizar un valor especifico en una tabla, dalndo la [row,columna]:\n",
        "#print(df.iloc[78,2])\n",
        "\n",
        "#funcion util:\n",
        "#for index, row in df.iterrows():\n",
        "#  print(index,row['embark_town'])\n",
        "\n",
        "#se puede sacar info entre los valores:\n",
        "p = df.loc[df['embark_town'] == \"Queenstown\"] # y me muestra todos los que salieron solo de Queenstown\n",
        "\n",
        "cant = 0\n",
        "for row in p.axes[0]: #ver cant de lineas, para cantidad de columnas  poner axes en 1\n",
        "  cant += 1\n",
        "#print(cant)\n",
        "#tambien se puede usar \"len(DataFrame.index) para la cant de rows\"\n",
        "\n",
        "df.describe() # para ver informacion general del dataframe\n",
        "\n",
        "df.sort_values('age') #para ordenar, depende de header, puede ser alfabetica o numeralmente\n",
        "#Tambien puede ser de manera decreciente\n",
        "df.sort_values('age', ascending=False)\n",
        "\n",
        "#para crear una nueva columna en la lista se puede hacer esto\n",
        "df['Total'] = df['age'] + df['n_siblings_spouses'] + df['parch'] +df['fare'] #Suma de valores de esta manera\n",
        "\n",
        "#para borrar una columna:\n",
        "df = df.drop(columns=['Total'])\n",
        "\n",
        "#otra manera de crear una columna con la suma de otros valores\n",
        "df['Total'] = df.iloc[:, 2:6].sum(axis=1)#tambien puede ser con una lista, no solo un rango, el rango tiene que tener un valor demas pq es excluyente\n",
        "#axis=1 pq asi suma cada row individual\n",
        "\n",
        "#PARA CAMBIAR EL ORDEN DE LA TABLA DE ALGUN VALOR:\n",
        "cols = list(df.columns)\n",
        "df = df[cols[0:6] + [cols[-1]] + cols[6:10]]  #como solo quiero cambiar un valor tengo que ponerlo en []\n",
        "#OJO QUE PUEDE RECORTAR UN POCO DE INFO ESTOOOOOOOO\n",
        "\n",
        "#para guarar en csv\n",
        "df.to_csv('../test.csv' , index=False) #lo deja guardado en el colab, no se como hacer para que lo mande a mi PC\n",
        "df.to_excel('../test.xlsx', index=False)# (index=False) para que no aparezca el index\n",
        "df.to_csv('../test.txt', index=False, sep='\\t')\n",
        "\n",
        "df.head(8)"
      ],
      "metadata": {
        "id": "h97ljbjcNTh-"
      },
      "execution_count": null,
      "outputs": []
    },
    {
      "cell_type": "code",
      "source": [
        "df_nuevo = df.loc[(df['survived'] == 1) & (df['age'] > 50)] #buscar que cupla las dos funciones\n",
        "df.loc[(df['survived'] == 1) | (df['age'] > 50)]#buscar que cumpla por lo menos una\n",
        "#en este caso es para ver si sobrevivio y si tiene mas de 50 años\n",
        "\n",
        "#para resetear el index:\n",
        "df_nuevo = df_nuevo.reset_index(drop=True) #el drop=True es para sacr el index viejo\n",
        "#df_nuevo.reset_index(drop=True, inplace=True) # ESTO Y LO ANTERIOR ES LO MISMO\n",
        "df_nuevo\n",
        "\n",
        "#Para encontrar valores que contengan una caracteristica por ej en el nombre\n",
        "df.loc[df['embark_town'].str.contains(\"to\")] \n",
        "#ejemplo simple pero da para entender, son todas las perzonas que embarcaron en una ciudad que tiene \"to\"\n",
        "\n",
        "df.loc[~df['embark_town'].str.contains(\"to\")] #aca son todos los valores que nooo coinciden con esto\n",
        "\n",
        "#BUSCAR REGULAR EXPRESSIONS MEJOR\n",
        "#--------------------------------\n",
        "\n",
        "#Cambios condicionales de valor:\n",
        "#Conditional changes (VER MEJOR ESTO)\n",
        "#------------------------------------\n",
        "df.loc[df['embark_town'] == 'Southampton' , 'embark_town'] = 'Shouthern'\n",
        "# y ahi todos los Southampton son Shouthern\n",
        "\n",
        "#Aggregate Statistics (Groupby)\n",
        "#para agrupar diferentes valores y sacar una info especifica\n",
        "df.groupby(['embark_town']).mean().sort_values('age',  ascending=False)\n",
        "#.sort_values('age',  ascending=False) esto no hace falta\n",
        "df.groupby(['embark_town']).sum()\n",
        "df.groupby(['embark_town']).count()# en este caso no tiene mucho sentido\n",
        "\n",
        "#para contar cuantos valores en cada opcion hay se puede:\n",
        "df['counter'] = 1\n",
        "df.groupby(['embark_town', 'sex']).count()['counter']\n",
        "# y asi se puede saber cuanta gente viene de cada ciudad dependiendo si son mujer o hombre\n",
        "#lo de (, 'sex') no hace falta"
      ],
      "metadata": {
        "id": "D521Pt2re4e8"
      },
      "execution_count": null,
      "outputs": []
    },
    {
      "cell_type": "code",
      "source": [
        "#Working with large amounts of data:\n",
        "#Cuando se trabaja con cantidades grandes de data, esta bueno usar chunksize:\n",
        "for df2 in pd.read_csv('https://storage.googleapis.com/tf-datasets/titanic/train.csv', chunksize=5):\n",
        " print(\"Chunk de a 5\")\n",
        " print(df2)\n",
        "\n",
        "#ver pd.DataFrame\n",
        "#ver pd.concat"
      ],
      "metadata": {
        "id": "RGUm3Z-mghbR"
      },
      "execution_count": null,
      "outputs": []
    }
  ]
}